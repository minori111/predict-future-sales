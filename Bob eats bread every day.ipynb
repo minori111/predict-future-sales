{
 "cells": [
  {
   "cell_type": "code",
   "execution_count": 2,
   "metadata": {},
   "outputs": [],
   "source": [
    "import numpy as np\n",
    "import itertools"
   ]
  },
  {
   "cell_type": "code",
   "execution_count": 3,
   "metadata": {},
   "outputs": [],
   "source": [
    "def w_strategy(W, A, B, C, d, strategy):\n",
    "    S = 0 # stress point\n",
    "    for i, s in enumerate(strategy):\n",
    "        if s == 1: # eat bread\n",
    "            S = 0\n",
    "            W = W + C[d+i]\n",
    "        else: # stop eating bread\n",
    "            S = S + 1\n",
    "            W = W - A + B*S\n",
    "    return W"
   ]
  },
  {
   "cell_type": "code",
   "execution_count": 33,
   "metadata": {},
   "outputs": [
    {
     "name": "stdout",
     "output_type": "stream",
     "text": [
      "110 [0, 0, 0, 0, 0]\n",
      "99 [0, 0, 0, 0, 1]\n",
      "92 [0, 0, 0, 1, 0]\n",
      "93 [0, 0, 0, 1, 1]\n",
      "86 [0, 0, 1, 0, 0]\n",
      "84 [0, 0, 1, 0, 1]\n",
      "86 [0, 0, 1, 1, 0]\n",
      "87 [0, 0, 1, 1, 1]\n",
      "93 [0, 1, 0, 0, 0]\n",
      "88 [0, 1, 0, 0, 1]\n",
      "87 [0, 1, 0, 1, 0]\n",
      "88 [0, 1, 0, 1, 1]\n",
      "87 [0, 1, 1, 0, 0]\n",
      "85 [0, 1, 1, 0, 1]\n",
      "87 [0, 1, 1, 1, 0]\n",
      "88 [0, 1, 1, 1, 1]\n",
      "100 [1, 0, 0, 0, 0]\n",
      "92 [1, 0, 0, 0, 1]\n",
      "88 [1, 0, 0, 1, 0]\n",
      "89 [1, 0, 0, 1, 1]\n",
      "85 [1, 0, 1, 0, 0]\n",
      "83 [1, 0, 1, 0, 1]\n",
      "85 [1, 0, 1, 1, 0]\n",
      "86 [1, 0, 1, 1, 1]\n",
      "95 [1, 1, 0, 0, 0]\n",
      "90 [1, 1, 0, 0, 1]\n",
      "89 [1, 1, 0, 1, 0]\n",
      "90 [1, 1, 0, 1, 1]\n",
      "89 [1, 1, 1, 0, 0]\n",
      "87 [1, 1, 1, 0, 1]\n",
      "89 [1, 1, 1, 1, 0]\n",
      "90 [1, 1, 1, 1, 1]\n"
     ]
    }
   ],
   "source": [
    "N=5\n",
    "W=70\n",
    "A=1\n",
    "B=3\n",
    "C = [4,6,2,5,3]\n",
    "strategy = [1,0,0,0,0]\n",
    "w_strategy(W, A, B, C, 0, strategy)\n",
    "strategy_all = list(map(list, itertools.product([0, 1], repeat=5)))\n",
    "for strategy in strategy_all:\n",
    "    print(w_strategy(W, A, B, C, 0, strategy), strategy)"
   ]
  },
  {
   "cell_type": "code",
   "execution_count": 47,
   "metadata": {},
   "outputs": [],
   "source": [
    "def mini_weight(N, W, A, B, C, d):\n",
    "    '''\n",
    "    Calculate minimum weight in (max(C)//B + 1 + A//B + 1) days\n",
    "    return greedy optimal strategy\n",
    "    d: start day\n",
    "    '''\n",
    "    if B == 0:\n",
    "        strategy = [0]*N\n",
    "        print(w_strategy(W, A, B, C, d, strategy))\n",
    "        return strategy\n",
    "    day_greedy = (max(C)//B + 1 + A//B + 1)\n",
    "    print(day_greedy)\n",
    "    if d + day_greedy > N:\n",
    "        day_greedy = N-d\n",
    "    strategy_all = list(map(list, itertools.product([0, 1], repeat=day_greedy)))\n",
    "    mini_weight = W*2\n",
    "    for strategy in strategy_all:\n",
    "        w = w_strategy(W, A, B, C, d, strategy)\n",
    "        if w < mini_weight:\n",
    "            opt_strategy = strategy\n",
    "            mini_weight = w\n",
    "    print(opt_strategy)\n",
    "    print(mini_weight)\n",
    "    \n",
    "    return opt_strategy, mini_weight\n",
    "    "
   ]
  },
  {
   "cell_type": "code",
   "execution_count": 48,
   "metadata": {},
   "outputs": [
    {
     "name": "stdout",
     "output_type": "stream",
     "text": [
      "4\n",
      "[1, 0, 1, 0]\n",
      "80\n"
     ]
    },
    {
     "data": {
      "text/plain": [
       "([1, 0, 1, 0], 80)"
      ]
     },
     "execution_count": 48,
     "metadata": {},
     "output_type": "execute_result"
    }
   ],
   "source": [
    "N=5\n",
    "W=70\n",
    "A=1\n",
    "B=3\n",
    "C = [4,6,2,5,3]\n",
    "\n",
    "\n",
    "mini_weight(N, W, A, B, C, 0)"
   ]
  },
  {
   "cell_type": "code",
   "execution_count": 52,
   "metadata": {},
   "outputs": [],
   "source": [
    "def diet(N, W, A, B, C):\n",
    "    '''\n",
    "    N(int) : days\n",
    "    W(int) : Bob's original weight(kg)\n",
    "    A(int) : loss kg per day if not eating bread\n",
    "    B(int) : stress multiplier, W(int) will increase by B*(stress point)  if not eating bread \n",
    "    C(list): Bob gains \"C(i)\"kg of weight when he eats bread on \"i\" day from the start of his diet plan.\n",
    "    This function will calculate how many kg is the minimum weight in \"N\" days diet.\n",
    "    And make the plan which date he should eat & which date he shouldn't eat.\n",
    "    Please note that on each day, his weight changes after a change in stress point.\n",
    "    '''\n",
    "    d = 0\n",
    "    opt_strategy = []\n",
    "    W_copy = W\n",
    "    while d < N:\n",
    "        small_opt_strategy, W_copy = mini_weight(N, W_copy, A, B, C, d)\n",
    "        d = d + len(small_opt_strategy)\n",
    "        opt_strategy += small_opt_strategy\n",
    "        print('-------------------')\n",
    "    print('Final')\n",
    "    print(opt_strategy)\n",
    "    print(w_strategy(W, A, B, C, 0, opt_strategy))\n",
    "    \n",
    "    return opt_strategy"
   ]
  },
  {
   "cell_type": "code",
   "execution_count": 55,
   "metadata": {},
   "outputs": [
    {
     "name": "stdout",
     "output_type": "stream",
     "text": [
      "3\n",
      "[1, 0, 1]\n",
      "81\n",
      "-------------------\n",
      "3\n",
      "[0, 1]\n",
      "89\n",
      "-------------------\n",
      "Final\n",
      "[1, 0, 1, 0, 1]\n",
      "89\n"
     ]
    },
    {
     "data": {
      "text/plain": [
       "[1, 0, 1, 0, 1]"
      ]
     },
     "execution_count": 55,
     "metadata": {},
     "output_type": "execute_result"
    }
   ],
   "source": [
    "N=5\n",
    "W=70\n",
    "A=1\n",
    "B=6\n",
    "C = [4,6,2,5,3]\n",
    "\n",
    "\n",
    "diet(N, W, A, B, C)"
   ]
  },
  {
   "cell_type": "code",
   "execution_count": 37,
   "metadata": {},
   "outputs": [
    {
     "data": {
      "text/plain": [
       "[0, 1]"
      ]
     },
     "execution_count": 37,
     "metadata": {},
     "output_type": "execute_result"
    }
   ],
   "source": [
    "[]+[0]+[1]"
   ]
  },
  {
   "cell_type": "code",
   "execution_count": 7,
   "metadata": {},
   "outputs": [
    {
     "data": {
      "text/plain": [
       "1267650600228229401496703205376"
      ]
     },
     "execution_count": 7,
     "metadata": {},
     "output_type": "execute_result"
    }
   ],
   "source": [
    "2**100"
   ]
  },
  {
   "cell_type": "code",
   "execution_count": null,
   "metadata": {},
   "outputs": [],
   "source": [
    "ls = list(map(list, itertools.product([0, 1], repeat=10)))"
   ]
  },
  {
   "cell_type": "code",
   "execution_count": 5,
   "metadata": {},
   "outputs": [
    {
     "ename": "MemoryError",
     "evalue": "",
     "output_type": "error",
     "traceback": [
      "\u001b[1;31m---------------------------------------------------------------------------\u001b[0m",
      "\u001b[1;31mMemoryError\u001b[0m                               Traceback (most recent call last)",
      "\u001b[1;32m<ipython-input-5-7b67b42482e3>\u001b[0m in \u001b[0;36m<module>\u001b[1;34m()\u001b[0m\n\u001b[1;32m----> 1\u001b[1;33m \u001b[0mlist\u001b[0m\u001b[1;33m(\u001b[0m\u001b[0mmap\u001b[0m\u001b[1;33m(\u001b[0m\u001b[0mlist\u001b[0m\u001b[1;33m,\u001b[0m \u001b[0mitertools\u001b[0m\u001b[1;33m.\u001b[0m\u001b[0mproduct\u001b[0m\u001b[1;33m(\u001b[0m\u001b[1;33m[\u001b[0m\u001b[1;36m0\u001b[0m\u001b[1;33m,\u001b[0m \u001b[1;36m1\u001b[0m\u001b[1;33m]\u001b[0m\u001b[1;33m,\u001b[0m \u001b[0mrepeat\u001b[0m\u001b[1;33m=\u001b[0m\u001b[1;36m50\u001b[0m\u001b[1;33m)\u001b[0m\u001b[1;33m)\u001b[0m\u001b[1;33m)\u001b[0m\u001b[1;33m\u001b[0m\u001b[0m\n\u001b[0m",
      "\u001b[1;31mMemoryError\u001b[0m: "
     ]
    }
   ],
   "source": [
    "list(map(list, itertools.product([0, 1], repeat=50)))"
   ]
  },
  {
   "cell_type": "code",
   "execution_count": null,
   "metadata": {},
   "outputs": [],
   "source": []
  }
 ],
 "metadata": {
  "kernelspec": {
   "display_name": "Python 3",
   "language": "python",
   "name": "python3"
  },
  "language_info": {
   "codemirror_mode": {
    "name": "ipython",
    "version": 3
   },
   "file_extension": ".py",
   "mimetype": "text/x-python",
   "name": "python",
   "nbconvert_exporter": "python",
   "pygments_lexer": "ipython3",
   "version": "3.5.5"
  }
 },
 "nbformat": 4,
 "nbformat_minor": 2
}
